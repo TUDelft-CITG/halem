{
 "cells": [
  {
   "cell_type": "code",
   "execution_count": null,
   "id": "c281b3cc",
   "metadata": {
    "ExecuteTime": {
     "end_time": "2022-08-29T15:12:06.177384Z",
     "start_time": "2022-08-29T15:12:06.167809Z"
    }
   },
   "outputs": [],
   "source": [
    "import numpy as np\n",
    "from datetime import datetime\n",
    "from scipy.interpolate import griddata\n",
    "\n",
    "from halem import BaseRoadmap, HALEM_space, HALEM_time, plot_timeseries, HALEM_cost,HALEM_co2\n",
    "\n",
    "import matplotlib.pyplot as plt\n",
    "\n",
    "plt.style.use(\"ggplot\")\n",
    "%matplotlib inline"
   ]
  },
  {
   "cell_type": "code",
   "execution_count": null,
   "id": "7fd835f9",
   "metadata": {
    "ExecuteTime": {
     "end_time": "2022-08-29T15:08:28.840334Z",
     "start_time": "2022-08-29T15:08:28.830615Z"
    }
   },
   "outputs": [],
   "source": [
    "class RoadMap(BaseRoadmap):\n",
    "    def load(self):\n",
    "        d = datetime.strptime(\"23/03/2019 00:00:00\", \"%d/%m/%Y %H:%M:%S\")\n",
    "        t0 = d.timestamp()\n",
    "        x = np.arange(0, 1, 0.04)\n",
    "        y = np.arange(0, 1, 0.04)\n",
    "        t = np.arange(t0, (t0 + 2 * 30 * 60 * 30), 30 * 60)\n",
    "\n",
    "        y, x = np.meshgrid(y, x)\n",
    "        y = y.reshape(y.size)\n",
    "        x = x.reshape(y.size)\n",
    "\n",
    "        nodes = np.zeros((len(x), 2))\n",
    "        nodes[:, 0] = y\n",
    "        nodes[:, 1] = x\n",
    "\n",
    "        u = []\n",
    "        v = []\n",
    "        for node in nodes:\n",
    "            ut = 0 * t + 2 * np.cos(np.pi * (node[0]))\n",
    "            vt = 0 * t - 2 * np.cos(np.pi * (node[1]))\n",
    "            u.append(ut)\n",
    "            v.append(vt)\n",
    "\n",
    "        v = np.transpose(np.array(v))\n",
    "        u = np.transpose(np.array(u))\n",
    "        wd = u * 0 + 20\n",
    "\n",
    "        return {\n",
    "            \"v\": v,\n",
    "            \"u\": u,\n",
    "            \"water_depth\": wd,\n",
    "            \"time\": t,\n",
    "            \"nodes\": nodes,\n",
    "        }\n",
    "\n",
    "    @staticmethod\n",
    "    def compute_cost(travel_time, speed):\n",
    "        week_rate = 700_000 \n",
    "        fuel_rate = 0.008\n",
    "        second_rate = week_rate / 7 / 24 / 60 / 60\n",
    "        return (\n",
    "            travel_time * second_rate + fuel_rate * travel_time * speed**3\n",
    "        )\n",
    "    \n",
    "    @staticmethod\n",
    "    def compute_co2(travel_time, speed):\n",
    "        fuel_rate = 1\n",
    "        return (fuel_rate * travel_time * speed**3)"
   ]
  },
  {
   "cell_type": "code",
   "execution_count": null,
   "id": "f632892f",
   "metadata": {
    "ExecuteTime": {
     "end_time": "2022-08-29T15:08:28.856374Z",
     "start_time": "2022-08-29T15:08:28.843263Z"
    }
   },
   "outputs": [],
   "source": [
    "%%time\n",
    "\n",
    "roadmap = RoadMap(\n",
    "    number_of_neighbor_layers=2,\n",
    "    vship=np.array([[1, 4, 8], [1, 5, 10]]),\n",
    "    WD_min=np.array([8, 7]),\n",
    "    WVPI=np.array([4000, 10000]),\n",
    "    WWL=40,\n",
    "    LWL=80,\n",
    "    ukc=1.5,\n",
    "    nl=(3, 2.5),\n",
    "    dx_min=0.1,\n",
    "    blend=1,\n",
    ")"
   ]
  },
  {
   "cell_type": "code",
   "execution_count": null,
   "id": "5bac52d0",
   "metadata": {
    "ExecuteTime": {
     "end_time": "2022-08-29T15:11:22.922743Z",
     "start_time": "2022-08-29T15:08:28.859918Z"
    },
    "scrolled": false
   },
   "outputs": [],
   "source": [
    "%%time\n",
    "\n",
    "roadmap.parse()"
   ]
  },
  {
   "cell_type": "code",
   "execution_count": null,
   "id": "3db91e78",
   "metadata": {
    "ExecuteTime": {
     "end_time": "2022-08-29T15:12:13.671971Z",
     "start_time": "2022-08-29T15:12:09.527836Z"
    }
   },
   "outputs": [],
   "source": [
    "%%time\n",
    "\n",
    "t0 = \"23/03/2019 03:00:00\"  # Departure time\n",
    "\n",
    "start = (0.2, 0.2)\n",
    "stop = (0.8, 0.8)\n",
    "v_max = 7\n",
    "\n",
    "\n",
    "path_t, time_t, dist_t = HALEM_time(start, stop, t0, v_max, roadmap)\n",
    "path_s, time_s, dist_s = HALEM_space(start, stop, t0, v_max, roadmap)\n",
    "path_c, time_c, dist_c = HALEM_cost(start, stop, t0, v_max, roadmap)\n",
    "path_p, time_p, dist_p = HALEM_co2(start, stop, t0, v_max, roadmap)"
   ]
  },
  {
   "cell_type": "code",
   "execution_count": null,
   "id": "bc8b5d29",
   "metadata": {
    "ExecuteTime": {
     "end_time": "2022-08-29T15:12:14.564350Z",
     "start_time": "2022-08-29T15:12:13.674790Z"
    }
   },
   "outputs": [],
   "source": [
    "fig = plt.figure(figsize=(23, 17))\n",
    "\n",
    "ax = plt.subplot(3, 2, 1)\n",
    "plt.axis(\"square\")\n",
    "a = 1\n",
    "\n",
    "x_r = np.arange(0, 1, 0.075)\n",
    "y_r = np.arange(0, 1, 0.075)\n",
    "y_r, x_r = np.meshgrid(y_r, x_r)\n",
    "\n",
    "WD_r = griddata(\n",
    "    (roadmap.nodes[:, 1], roadmap.nodes[:, 0]),\n",
    "    roadmap.WD[:, 0],\n",
    "    (x_r, y_r),\n",
    "    method=\"linear\",\n",
    ")\n",
    "u_r = griddata(\n",
    "    (roadmap.nodes[:, 1], roadmap.nodes[:, 0]),\n",
    "    roadmap.u[:, 0],\n",
    "    (x_r, y_r),\n",
    "    method=\"linear\",\n",
    ")\n",
    "v_r = griddata(\n",
    "    (roadmap.nodes[:, 1], roadmap.nodes[:, 0]),\n",
    "    roadmap.v[:, 0],\n",
    "    (x_r, y_r),\n",
    "    method=\"linear\",\n",
    ")\n",
    "\n",
    "cval = np.arange(0, 21, 0.5)\n",
    "im = plt.contourf(x_r, y_r, WD_r, cval)\n",
    "fig.colorbar(im, ax=ax, label=\"Waterdepth in meters\")\n",
    "\n",
    "plt.quiver(\n",
    "    x_r[::a, ::a], y_r[::a, ::a], u_r[::a, ::a], v_r[::a, ::a], label=\"flow directions\"\n",
    ")\n",
    "plt.plot(path_t[:, 0], path_t[:, 1], \"r\", label=\"fastest Route\", linewidth=3)\n",
    "plt.plot(path_s[:, 0], path_s[:, 1], \"b\", label=\"shortest Route\", linewidth=3)\n",
    "plt.plot(path_c[:, 0], path_c[:, 1], \"g\", label=\"cheapest Route\", linewidth=3)\n",
    "plt.plot(path_p[:, 0], path_p[:, 1], \"m\", label=\"cleanest Route\", linewidth=3)\n",
    "\n",
    "plt.plot(\n",
    "    roadmap.nodes[:, 1],\n",
    "    roadmap.nodes[:, 0],\n",
    "    \"k.\",\n",
    "    label=\"Nodes of the graph\",\n",
    "    markersize=1,\n",
    ")\n",
    "plt.plot(path_t[0, 0], path_t[0, 1], \"go\", label=\"start\")\n",
    "plt.plot(path_t[-1, 0], path_t[-1, 1], \"ro\", label=\"target\")\n",
    "\n",
    "\n",
    "plt.xlim(0, 1)\n",
    "plt.ylim(0, 1)\n",
    "plt.title(r\"x/y diagram of the simple rotating flow\")\n",
    "ax.legend(\n",
    "    loc=\"upper center\", bbox_to_anchor=(-0.5, 0.5), ncol=1, fancybox=True, shadow=True\n",
    ")\n",
    "plt.xlabel(\"lat\")\n",
    "plt.ylabel(\"lon\")\n",
    "\n",
    "plt.subplot(3, 2, 2)\n",
    "plot_timeseries(path_t, time_t, roadmap, \"r\")\n",
    "plt.title(\"s/t diagram of the fastest route\")\n",
    "\n",
    "\n",
    "plt.subplot(3, 2, 3)\n",
    "plot_timeseries(path_s, time_s, roadmap, \"b\")\n",
    "plt.title(\"s/t diagram of the shortest route\")\n",
    "\n",
    "\n",
    "plt.subplot(3, 2, 4)\n",
    "plot_timeseries(path_c, time_c, roadmap, \"g\")\n",
    "plt.title(\"s/t diagram of the cheapest route\")\n",
    "\n",
    "plt.subplot(3, 2, 5)\n",
    "plot_timeseries(path_p, time_p, roadmap, \"m\")\n",
    "plt.title(\"s/t diagram of the cleanest route\")\n",
    "\n",
    "plt.show()"
   ]
  },
  {
   "cell_type": "code",
   "execution_count": null,
   "id": "818a4dcb",
   "metadata": {},
   "outputs": [],
   "source": []
  },
  {
   "cell_type": "code",
   "execution_count": null,
   "id": "1f1979a7",
   "metadata": {},
   "outputs": [],
   "source": []
  }
 ],
 "metadata": {
  "kernelspec": {
   "display_name": "Python 3 (ipykernel)",
   "language": "python",
   "name": "python3"
  },
  "language_info": {
   "codemirror_mode": {
    "name": "ipython",
    "version": 3
   },
   "file_extension": ".py",
   "mimetype": "text/x-python",
   "name": "python",
   "nbconvert_exporter": "python",
   "pygments_lexer": "ipython3",
   "version": "3.10.6"
  },
  "vscode": {
   "interpreter": {
    "hash": "949777d72b0d2535278d3dc13498b2535136f6dfe0678499012e853ee9abcab1"
   }
  }
 },
 "nbformat": 4,
 "nbformat_minor": 5
}
