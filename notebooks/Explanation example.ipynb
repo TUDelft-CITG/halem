{
 "cells": [
  {
   "cell_type": "code",
   "execution_count": null,
   "id": "c281b3cc",
   "metadata": {
    "ExecuteTime": {
     "end_time": "2022-08-29T10:29:53.825107Z",
     "start_time": "2022-08-29T10:29:52.669133Z"
    }
   },
   "outputs": [],
   "source": [
    "import numpy as np\n",
    "from datetime import datetime\n",
    "from scipy.interpolate import griddata\n",
    "from scipy.spatial import Delaunay\n",
    "\n",
    "import halem\n",
    "import halem.mesh_maker as Mesh_maker\n",
    "import halem.functions as Functions\n",
    "import halem.calc_path as Calc_path\n",
    "import halem.base_functions as base_functions\n",
    "\n",
    "import matplotlib.pyplot as plt\n",
    "\n",
    "plt.style.use(\"ggplot\")\n",
    "%matplotlib inline"
   ]
  },
  {
   "cell_type": "code",
   "execution_count": null,
   "id": "7fd835f9",
   "metadata": {
    "ExecuteTime": {
     "end_time": "2022-08-29T10:29:53.836866Z",
     "start_time": "2022-08-29T10:29:53.827770Z"
    }
   },
   "outputs": [],
   "source": [
    "class flow_potentiaalveld:\n",
    "    def __init__(self, name):\n",
    "        d = datetime.strptime(\"23/03/2019 00:00:00\", \"%d/%m/%Y %H:%M:%S\")\n",
    "        t0 = d.timestamp()\n",
    "        x = np.arange(0, 1, 0.04)\n",
    "        y = np.arange(0, 1, 0.04)\n",
    "        t = np.arange(t0, (t0 + 2 * 30 * 60 * 30), 30 * 60)\n",
    "\n",
    "        y, x = np.meshgrid(y, x)\n",
    "        y = y.reshape(y.size)\n",
    "        x = x.reshape(y.size)\n",
    "\n",
    "        nodes = np.zeros((len(x), 2))\n",
    "        nodes[:, 0] = y\n",
    "        nodes[:, 1] = x\n",
    "\n",
    "        u = []\n",
    "        v = []\n",
    "        for node in nodes:\n",
    "            ut = 0 * t + 2 * np.cos(np.pi * (node[0]))\n",
    "            vt = 0 * t - 2 * np.cos(np.pi * (node[1]))\n",
    "            u.append(ut)\n",
    "            v.append(vt)\n",
    "\n",
    "        self.v = np.transpose(np.array(v))\n",
    "        self.u = np.transpose(np.array(u))\n",
    "        #         self.WD = np.random.rand(self.u.shape[0],self.u.shape[1])*12 + 8\n",
    "        self.WD = self.u * 0 + 20\n",
    "        self.t = t\n",
    "        self.nodes = nodes\n",
    "        self.tria = Delaunay(nodes)\n",
    "\n",
    "\n",
    "def compute_cost(week_rate, fuel_rate):\n",
    "    second_rate = week_rate / 7 / 24 / 60 / 60\n",
    "    return lambda travel_time, speed: (\n",
    "        travel_time * second_rate + fuel_rate * travel_time * speed**3\n",
    "    )\n",
    "\n",
    "\n",
    "def compute_co2(fuel_rate):\n",
    "    return lambda travel_time, speed: (fuel_rate * travel_time * speed**3)"
   ]
  },
  {
   "cell_type": "code",
   "execution_count": null,
   "id": "2bee1eb3",
   "metadata": {
    "ExecuteTime": {
     "end_time": "2022-08-29T10:29:53.847259Z",
     "start_time": "2022-08-29T10:29:53.840418Z"
    }
   },
   "outputs": [],
   "source": [
    "nl = (3, 2.5)\n",
    "dx_min = 0.1\n",
    "blend = 1\n",
    "vship = np.array([[1, 4, 8], [1, 5, 10]])\n",
    "WD_min = np.array([8, 7])\n",
    "WPVI = np.array([4000, 10000])\n",
    "ukc = 1.5\n",
    "WWL = 40\n",
    "name_textfile_flow = \"maaktnietuit\"\n",
    "Load_flow = flow_potentiaalveld\n",
    "number_of_neighbor_layers = 1\n",
    "\n",
    "Q_cost = compute_cost(700_000, 0.008)\n",
    "Q_co2 = compute_co2(1)"
   ]
  },
  {
   "cell_type": "code",
   "execution_count": null,
   "id": "f632892f",
   "metadata": {
    "ExecuteTime": {
     "start_time": "2022-08-29T10:29:51.312Z"
    }
   },
   "outputs": [],
   "source": [
    "%%time\n",
    "\n",
    "Roadmap_t = Mesh_maker.GraphFlowModel(\n",
    "    name_textfile_flow,\n",
    "    dx_min,\n",
    "    blend,\n",
    "    nl,\n",
    "    number_of_neighbor_layers,\n",
    "    vship,\n",
    "    Load_flow,\n",
    "    WD_min,\n",
    "    WPVI,\n",
    "    WWL=WWL,\n",
    "    ukc=ukc,\n",
    "    compute_cost=Q_cost,\n",
    "    compute_co2=Q_co2,\n",
    ")\n",
    "\n"
   ]
  },
  {
   "cell_type": "code",
   "execution_count": null,
   "id": "3db91e78",
   "metadata": {
    "ExecuteTime": {
     "start_time": "2022-08-29T10:29:51.313Z"
    }
   },
   "outputs": [],
   "source": [
    "%%time\n",
    "\n",
    "t0 = \"23/03/2019 03:00:00\"  # Departure time\n",
    "\n",
    "start = (0.2, 0.2)\n",
    "stop = (0.8, 0.8)\n",
    "v_max = 7\n",
    "\n",
    "\n",
    "path_t, time_t, dist_t = halem.base_functions.HALEM_time(\n",
    "    start, stop, t0, v_max, Roadmap_t\n",
    ")\n",
    "path_s, time_s, dist_s = halem.base_functions.HALEM_space(\n",
    "    start, stop, t0, v_max, Roadmap_t\n",
    ")\n",
    "path_c, time_c, dist_c = halem.base_functions.HALEM_cost(\n",
    "    start, stop, t0, v_max, Roadmap_t\n",
    ")\n",
    "path_p, time_p, dist_p = halem.base_functions.HALEM_co2(\n",
    "    start, stop, t0, v_max, Roadmap_t\n",
    ")"
   ]
  },
  {
   "cell_type": "code",
   "execution_count": null,
   "id": "bc8b5d29",
   "metadata": {
    "ExecuteTime": {
     "start_time": "2022-08-29T10:29:51.315Z"
    }
   },
   "outputs": [],
   "source": [
    "fig = plt.figure(figsize=(23, 17))\n",
    "\n",
    "ax = plt.subplot(3, 2, 1)\n",
    "plt.axis(\"square\")\n",
    "a = 1\n",
    "\n",
    "x_r = np.arange(0, 1, 0.075)\n",
    "y_r = np.arange(0, 1, 0.075)\n",
    "y_r, x_r = np.meshgrid(y_r, x_r)\n",
    "\n",
    "WD_r = griddata(\n",
    "    (Roadmap_t.nodes[:, 1], Roadmap_t.nodes[:, 0]),\n",
    "    Roadmap_t.WD[:, 0],\n",
    "    (x_r, y_r),\n",
    "    method=\"linear\",\n",
    ")\n",
    "u_r = griddata(\n",
    "    (Roadmap_t.nodes[:, 1], Roadmap_t.nodes[:, 0]),\n",
    "    Roadmap_t.u[:, 0],\n",
    "    (x_r, y_r),\n",
    "    method=\"linear\",\n",
    ")\n",
    "v_r = griddata(\n",
    "    (Roadmap_t.nodes[:, 1], Roadmap_t.nodes[:, 0]),\n",
    "    Roadmap_t.v[:, 0],\n",
    "    (x_r, y_r),\n",
    "    method=\"linear\",\n",
    ")\n",
    "\n",
    "cval = np.arange(0, 21, 0.5)\n",
    "im = plt.contourf(x_r, y_r, WD_r, cval)\n",
    "fig.colorbar(im, ax=ax, label=\"Waterdepth in meters\")\n",
    "\n",
    "plt.quiver(\n",
    "    x_r[::a, ::a], y_r[::a, ::a], u_r[::a, ::a], v_r[::a, ::a], label=\"flow directions\"\n",
    ")\n",
    "plt.plot(path_t[:, 0], path_t[:, 1], \"r\", label=\"fastest Route\", linewidth=3)\n",
    "plt.plot(path_s[:, 0], path_s[:, 1], \"b\", label=\"shortest Route\", linewidth=3)\n",
    "plt.plot(path_c[:, 0], path_c[:, 1], \"g\", label=\"cheapest Route\", linewidth=3)\n",
    "plt.plot(path_p[:, 0], path_p[:, 1], \"m\", label=\"cleanest Route\", linewidth=3)\n",
    "\n",
    "plt.plot(\n",
    "    Roadmap_t.nodes[:, 1],\n",
    "    Roadmap_t.nodes[:, 0],\n",
    "    \"k.\",\n",
    "    label=\"Nodes of the graph\",\n",
    "    markersize=1,\n",
    ")\n",
    "plt.plot(path_t[0, 0], path_t[0, 1], \"go\", label=\"start\")\n",
    "plt.plot(path_t[-1, 0], path_t[-1, 1], \"ro\", label=\"target\")\n",
    "\n",
    "\n",
    "plt.xlim(0, 1)\n",
    "plt.ylim(0, 1)\n",
    "plt.title(r\"x/y diagram of the simple rotating flow\")\n",
    "ax.legend(\n",
    "    loc=\"upper center\", bbox_to_anchor=(-0.5, 0.5), ncol=1, fancybox=True, shadow=True\n",
    ")\n",
    "plt.xlabel(\"lat\")\n",
    "plt.ylabel(\"lon\")\n",
    "\n",
    "plt.subplot(3, 2, 2)\n",
    "halem.base_functions.plot_timeseries2(path_t, time_t, Roadmap_t, \"r\")\n",
    "plt.title(\"s/t diagram of the fastest route\")\n",
    "\n",
    "\n",
    "plt.subplot(3, 2, 3)\n",
    "halem.base_functions.plot_timeseries2(path_s, time_s, Roadmap_t, \"b\")\n",
    "plt.title(\"s/t diagram of the shortest route\")\n",
    "\n",
    "\n",
    "plt.subplot(3, 2, 4)\n",
    "halem.base_functions.plot_timeseries2(path_c, time_c, Roadmap_t, \"g\")\n",
    "plt.title(\"s/t diagram of the cheapest route\")\n",
    "\n",
    "plt.subplot(3, 2, 5)\n",
    "halem.base_functions.plot_timeseries2(path_p, time_p, Roadmap_t, \"m\")\n",
    "plt.title(\"s/t diagram of the cleanest route\")\n",
    "\n",
    "plt.show()"
   ]
  },
  {
   "cell_type": "code",
   "execution_count": null,
   "id": "70930002",
   "metadata": {},
   "outputs": [],
   "source": []
  }
 ],
 "metadata": {
  "kernelspec": {
   "display_name": "Python 3 (ipykernel)",
   "language": "python",
   "name": "python3"
  },
  "language_info": {
   "codemirror_mode": {
    "name": "ipython",
    "version": 3
   },
   "file_extension": ".py",
   "mimetype": "text/x-python",
   "name": "python",
   "nbconvert_exporter": "python",
   "pygments_lexer": "ipython3",
   "version": "3.10.6"
  }
 },
 "nbformat": 4,
 "nbformat_minor": 5
}
